{
 "cells": [
  {
   "cell_type": "code",
   "execution_count": 28,
   "metadata": {},
   "outputs": [],
   "source": [
    "import matplotlib.pyplot as plt\n",
    "import numpy as np\n",
    "import pandas as pd\n",
    "import seaborn as sns\n",
    "from matplotlib.pyplot import figure\n",
    "sns.set()"
   ]
  },
  {
   "cell_type": "code",
   "execution_count": 31,
   "metadata": {},
   "outputs": [
    {
     "name": "stdout",
     "output_type": "stream",
     "text": [
      "  algorithm                                               data  enemy 1  \\\n",
      "0      NEAT  [-35, -23, -43, -22, -29, -42, -17, -37, -41, ...      -35   \n",
      "1        GA  [-18, -28, -39, -37, -25, -14, -30, -32, -42, ...      -18   \n",
      "2    Island  [-76, -75, -77, -77, -76, -77, -72, -74, -77, ...      -76   \n",
      "\n",
      "   enemy 2  enemy 3  enemy 4  enemy 5  enemy 6  enemy 7  enemy 8       std  \n",
      "0      -23      -43      -22      -29      -42      -17      -37  9.724784  \n",
      "1      -28      -39      -37      -25      -14      -30      -32  8.675705  \n",
      "2      -75      -77      -77      -76      -77      -72      -74  1.772811  \n"
     ]
    }
   ],
   "source": [
    "data = [\n",
    "    {\n",
    "        'algorithm': 'NEAT'\n",
    "    },\n",
    "    {\n",
    "        'algorithm': 'GA'\n",
    "    },\n",
    "    {\n",
    "        'algorithm': 'Island'\n",
    "    }\n",
    "]\n",
    "for i in range(3):\n",
    "    if i==0:\n",
    "        d = [-35, -23, -43, -22, -29, -42, -17, -37, -41, -26]\n",
    "    elif i==1:\n",
    "        d = [-18, -28, -39, -37, -25, -14, -30, -32, -42, -42]\n",
    "    elif i==2:\n",
    "        d = [-76, -75, -77, -77, -76, -77, -72, -74, -77, -72]\n",
    "    for data_point, enemy in zip(d, range(1, 9)):\n",
    "        data[i]['enemy {}'.format(enemy)] = data_point\n",
    "    data[i]['data'] = d\n",
    "\n",
    "df = pd.DataFrame(data)\n",
    "print(df)"
   ]
  },
  {
   "cell_type": "code",
   "execution_count": 34,
   "metadata": {},
   "outputs": [
    {
     "data": {
      "text/plain": [
       "Text(0, 0.5, 'Gain')"
      ]
     },
     "execution_count": 34,
     "metadata": {},
     "output_type": "execute_result"
    },
    {
     "data": {
      "image/png": "[encoded data removed]",
      "text/plain": [
       "<Figure size 432x288 with 1 Axes>"
      ]
     },
     "metadata": {},
     "output_type": "display_data"
    }
   ],
   "source": [
    "plt.boxplot(df['data'], labels=df['algorithm'])\n",
    "plt.xlabel('Algorithm')\n",
    "plt.ylabel('Gain')"
   ]
  }
 ],
 "metadata": {
  "kernelspec": {
   "display_name": "Python 3",
   "language": "python",
   "name": "python3"
  },
  "language_info": {
   "codemirror_mode": {
    "name": "ipython",
    "version": 3
   },
   "file_extension": ".py",
   "mimetype": "text/x-python",
   "name": "python",
   "nbconvert_exporter": "python",
   "pygments_lexer": "ipython3",
   "version": "3.7.4"
  }
 },
 "nbformat": 4,
 "nbformat_minor": 2
}
